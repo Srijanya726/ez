{
 "cells": [
  {
   "cell_type": "code",
   "execution_count": 2,
   "metadata": {},
   "outputs": [
    {
     "name": "stdout",
     "output_type": "stream",
     "text": [
      "22\n"
     ]
    }
   ],
   "source": [
    "#access class var using class\n",
    "class abc:\n",
    "    var=22\n",
    "obj=abc()\n",
    "print(obj.var)\n"
   ]
  },
  {
   "cell_type": "code",
   "execution_count": 9,
   "metadata": {},
   "outputs": [
    {
     "name": "stdout",
     "output_type": "stream",
     "text": [
      "22\n",
      "this is class method\n"
     ]
    }
   ],
   "source": [
    "#access class member using class obj\n",
    "class abc:\n",
    "    var=22\n",
    "    def display(self):\n",
    "        print(\"this is class method\")\n",
    "obj=abc()\n",
    "print(obj.var)\n",
    "obj.display()\n"
   ]
  },
  {
   "cell_type": "code",
   "execution_count": 12,
   "metadata": {},
   "outputs": [
    {
     "name": "stdout",
     "output_type": "stream",
     "text": [
      "in class method\n",
      "the val is 10\n"
     ]
    }
   ],
   "source": [
    "#illustrate the constructor __init__()...method\n",
    "class abc:\n",
    "    def __init__(self, val):\n",
    "        print(\"in class method\")\n",
    "        self.val=val\n",
    "        print(\"the val is\",val)\n",
    "obj=abc(10)"
   ]
  },
  {
   "cell_type": "code",
   "execution_count": 18,
   "metadata": {},
   "outputs": [
    {
     "name": "stdout",
     "output_type": "stream",
     "text": [
      "the obj var is 10\n",
      "the class value of c-=var 1\n",
      "the obj var is 20\n",
      "the class value of c-=var 2\n",
      "the obj var is 30\n",
      "the class value of c-=var 3\n"
     ]
    }
   ],
   "source": [
    "#program to differentiate between class and obj variable\n",
    "class abc:\n",
    "    class_var=0\n",
    "    def __init__(self,var):\n",
    "        abc.class_var+=1\n",
    "        self.var=var\n",
    "        print(\"the obj var is\",var)\n",
    "        print(\"the class value of c-=var\",abc.class_var)\n",
    "obj1=abc(10)\n",
    "obj2=abc(20)\n",
    "obj3=abc(30)"
   ]
  },
  {
   "cell_type": "code",
   "execution_count": 16,
   "metadata": {},
   "outputs": [
    {
     "name": "stdout",
     "output_type": "stream",
     "text": [
      "22 is even\n"
     ]
    }
   ],
   "source": [
    "class num:\n",
    "    even=0\n",
    "    def check(self,num):\n",
    "        if num%2==0:\n",
    "            self.even=1\n",
    "    def even_odd(self,num):\n",
    "        self.check(num)\n",
    "        if self.even==1:\n",
    "            print(num,\"is even\")\n",
    "        else:\n",
    "            print(num, \"odd\")\n",
    "n=num()\n",
    "n.even_odd(22)"
   ]
  },
  {
   "cell_type": "code",
   "execution_count": 17,
   "metadata": {},
   "outputs": [
    {
     "name": "stdout",
     "output_type": "stream",
     "text": [
      "5\n"
     ]
    },
    {
     "ename": "NameError",
     "evalue": "name 'x' is not defined",
     "output_type": "error",
     "traceback": [
      "\u001b[1;31m---------------------------------------------------------------------------\u001b[0m",
      "\u001b[1;31mNameError\u001b[0m                                 Traceback (most recent call last)",
      "\u001b[1;32m<ipython-input-17-78bccdde0a39>\u001b[0m in \u001b[0;36m<module>\u001b[1;34m\u001b[0m\n\u001b[0;32m      2\u001b[0m \u001b[0mn\u001b[0m\u001b[1;33m=\u001b[0m\u001b[0mint\u001b[0m\u001b[1;33m(\u001b[0m\u001b[0minput\u001b[0m\u001b[1;33m(\u001b[0m\u001b[1;33m)\u001b[0m\u001b[1;33m)\u001b[0m\u001b[1;33m\u001b[0m\u001b[1;33m\u001b[0m\u001b[0m\n\u001b[0;32m      3\u001b[0m \u001b[1;32mfor\u001b[0m \u001b[0mi\u001b[0m \u001b[1;32min\u001b[0m \u001b[0mrange\u001b[0m\u001b[1;33m(\u001b[0m\u001b[1;36m0\u001b[0m\u001b[1;33m,\u001b[0m\u001b[0mn\u001b[0m\u001b[1;33m)\u001b[0m\u001b[1;33m:\u001b[0m\u001b[1;33m\u001b[0m\u001b[1;33m\u001b[0m\u001b[0m\n\u001b[1;32m----> 4\u001b[1;33m     \u001b[0mele\u001b[0m\u001b[1;33m=\u001b[0m\u001b[0mint\u001b[0m\u001b[1;33m(\u001b[0m\u001b[0minput\u001b[0m\u001b[1;33m(\u001b[0m\u001b[1;34m\" \"\u001b[0m\u001b[1;33m+\u001b[0m\u001b[0mstr\u001b[0m\u001b[1;33m(\u001b[0m\u001b[0mx\u001b[0m\u001b[1;33m+\u001b[0m\u001b[1;36m1\u001b[0m\u001b[1;33m)\u001b[0m\u001b[1;33m+\u001b[0m\u001b[1;34m\":\"\u001b[0m\u001b[1;33m)\u001b[0m\u001b[1;33m)\u001b[0m\u001b[1;33m\u001b[0m\u001b[1;33m\u001b[0m\u001b[0m\n\u001b[0m\u001b[0;32m      5\u001b[0m     \u001b[0ma\u001b[0m\u001b[1;33m.\u001b[0m\u001b[0mappend\u001b[0m\u001b[1;33m(\u001b[0m\u001b[0melement\u001b[0m\u001b[1;33m)\u001b[0m\u001b[1;33m\u001b[0m\u001b[1;33m\u001b[0m\u001b[0m\n\u001b[0;32m      6\u001b[0m     \u001b[0mtemp\u001b[0m\u001b[1;33m=\u001b[0m\u001b[0ma\u001b[0m\u001b[1;33m[\u001b[0m\u001b[1;36m0\u001b[0m\u001b[1;33m]\u001b[0m\u001b[1;33m\u001b[0m\u001b[1;33m\u001b[0m\u001b[0m\n",
      "\u001b[1;31mNameError\u001b[0m: name 'x' is not defined"
     ]
    }
   ],
   "source": [
    "a=[]\n",
    "n=int(input())\n",
    "for i in range(0,n):\n",
    "    ele=int(input(\" \"+str(x+1)+\":\"))\n",
    "    a.append(element)\n",
    "    temp=a[0]\n",
    "    a[0]=a[n-1]\n",
    "    a[n-1]=temp\n",
    "print(a)\n",
    "    "
   ]
  },
  {
   "cell_type": "code",
   "execution_count": 21,
   "metadata": {},
   "outputs": [
    {
     "ename": "SyntaxError",
     "evalue": "invalid syntax (<ipython-input-21-965ec17196fd>, line 9)",
     "output_type": "error",
     "traceback": [
      "\u001b[1;36m  File \u001b[1;32m\"<ipython-input-21-965ec17196fd>\"\u001b[1;36m, line \u001b[1;32m9\u001b[0m\n\u001b[1;33m    print(\"the class value\",abc.class)\u001b[0m\n\u001b[1;37m                                ^\u001b[0m\n\u001b[1;31mSyntaxError\u001b[0m\u001b[1;31m:\u001b[0m invalid syntax\n"
     ]
    }
   ],
   "source": [
    "#delete method---c++/java analogus to destructors\n",
    "#general syntax__del__\n",
    "class abc():\n",
    "    class_var=0\n",
    "    def __init__(self,var):\n",
    "        abc,class_var=+1\n",
    "        self.var=var\n",
    "        print(\"the obj value\",var)\n",
    "        print(\"the class value\",abc.class)\n",
    "    def __del__(self):\n",
    "        abc.class_var-=1\n",
    "        print(\"object with value %d is going out of scope\")\n",
    "obj1=abc(11)\n",
    "obj2=abc(22)\n",
    "obj3=abc(33)\n",
    "    "
   ]
  },
  {
   "cell_type": "code",
   "execution_count": null,
   "metadata": {},
   "outputs": [],
   "source": [
    "__repr__ ---syntax reporrt of the object\n",
    "__cmp__----compares two class objects\n",
    "__len__ ----len(obj)\n",
    "__call__---it acts like a func to call its instances\n",
    "__lt__,__le__,__eq__,__ne__,__gt__,__ge__,__cmp__ ---to compare two objects\n",
    "__iter__ --iteration over an object\n",
    "__getitem__used for indexing\n",
    "gs:def __getitem__(self,var/key)\n",
    "set item assign an item to the indexed value"
   ]
  },
  {
   "cell_type": "code",
   "execution_count": 24,
   "metadata": {},
   "outputs": [
    {
     "name": "stdout",
     "output_type": "stream",
     "text": [
      "[1, 2, 3, 4, 5, 6, 7, 8, 9]\n",
      "[1, 2, 3, 10, 5, 6, 7, 8, 9]\n"
     ]
    }
   ],
   "source": [
    "#program to demonstrate get and set items in a list\n",
    "class num:\n",
    "    def __init__(self,mylist):\n",
    "        self.mylist=mylist\n",
    "    def __getitem__(self,index):\n",
    "        return self.mylist[index]\n",
    "    def __setitem__(self,index,val):\n",
    "        self.mylist[index]=val\n",
    "numlist=numb([1,2,3,4,5,6,7,8,9])\n",
    "print(numlist.mylist)\n",
    "numlist[3]=10\n",
    "print(numlist.mylist)"
   ]
  },
  {
   "cell_type": "code",
   "execution_count": 34,
   "metadata": {},
   "outputs": [
    {
     "name": "stdout",
     "output_type": "stream",
     "text": [
      "this form calss mrthod,var= 10\n"
     ]
    }
   ],
   "source": [
    "class abc():\n",
    "    def __init__(self,var):\n",
    "        self.__var=var\n",
    "    def __display(self):\n",
    "        print(\"this form calss mrthod,var=\",self.__var)\n",
    "obj=abc(10)\n",
    "obj._abc__display()"
   ]
  },
  {
   "cell_type": "code",
   "execution_count": null,
   "metadata": {},
   "outputs": [],
   "source": [
    ">.hasattr(obj,name)-checks obj possesss the attributes values or not\n",
    "grtattr(obj,name[,default])\n",
    "setattr(obj,name,value)\n",
    "which is used to set an attribute the obj \n",
    "delattr(obj,name)"
   ]
  },
  {
   "cell_type": "code",
   "execution_count": null,
   "metadata": {},
   "outputs": [],
   "source": [
    "class abc():\n",
    "    def __init__(self,var):\n",
    "        self.var=var\n",
    "    def display(self):\n",
    "        print(\"var is \",sself.var)\n",
    "obj=abc(10)\n",
    "obj.display()\n",
    "print(\"check number obj has attribute var?\")\n",
    "getattr(obj,'var')\n",
    "setattr(obj,'var',50)\n",
    "print(\"after setting value is \",,obj.var)\n",
    "setattr(obj,'count',10)\n",
    "print(\"new variable count is created and its val=\"obj.count)\n",
    "str(obj,'var')\n",
    "\n"
   ]
  },
  {
   "cell_type": "code",
   "execution_count": null,
   "metadata": {},
   "outputs": [],
   "source": [
    "built-in class attributes\n",
    ". .__dict__\n",
    ". .__doc__\n",
    ". .__name__\n",
    ". .__base__\n"
   ]
  },
  {
   "cell_type": "code",
   "execution_count": 39,
   "metadata": {},
   "outputs": [
    {
     "name": "stdout",
     "output_type": "stream",
     "text": [
      "var1 is = 10\n",
      "var2 is= 12.34\n",
      "object.__dict__- {'var1': 10, 'var2': 12.34}\n",
      "object.__doc__- None\n",
      "object.__name__- abc\n",
      "object.__module__- __main__\n",
      "object.__base__- (<class 'object'>,)\n"
     ]
    }
   ],
   "source": [
    "class abc():\n",
    "    def __init__(self,var1,var2):\n",
    "        self.var1=var1\n",
    "        self.var2=var2\n",
    "    def dispaly(self):\n",
    "        print(\"var1 is =\",self.var1)\n",
    "        print(\"var2 is=\",self.var2)\n",
    "obj=abc(10,12.34)\n",
    "obj.dispaly()\n",
    "print(\"object.__dict__-\",obj.__dict__)\n",
    "print(\"object.__doc__-\",obj.__doc__)\n",
    "print(\"object.__name__-\",abc.__name__)\n",
    "print(\"object.__module__-\",obj.__module__)\n",
    "print(\"object.__base__-\",abc.__bases__)"
   ]
  },
  {
   "cell_type": "code",
   "execution_count": null,
   "metadata": {},
   "outputs": [],
   "source": []
  }
 ],
 "metadata": {
  "kernelspec": {
   "display_name": "Python 3",
   "language": "python",
   "name": "python3"
  },
  "language_info": {
   "codemirror_mode": {
    "name": "ipython",
    "version": 3
   },
   "file_extension": ".py",
   "mimetype": "text/x-python",
   "name": "python",
   "nbconvert_exporter": "python",
   "pygments_lexer": "ipython3",
   "version": "3.8.5"
  }
 },
 "nbformat": 4,
 "nbformat_minor": 4
}
