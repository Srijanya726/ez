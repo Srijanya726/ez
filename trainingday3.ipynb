{
 "cells": [
  {
   "cell_type": "code",
   "execution_count": 6,
   "metadata": {},
   "outputs": [
    {
     "name": "stdout",
     "output_type": "stream",
     "text": [
      "Aate Bate Cate Date Eate Fate Gate Hate "
     ]
    }
   ],
   "source": [
    "str1=\"ABCDEFGH\"\n",
    "str2=\"ate\"\n",
    "for letter in str1:\n",
    "    print(letter +str2, end=\" \")"
   ]
  },
  {
   "cell_type": "code",
   "execution_count": 23,
   "metadata": {},
   "outputs": [
    {
     "name": "stdout",
     "output_type": "stream",
     "text": [
      "3\n",
      "\n",
      "* \n",
      "* * \n",
      "* * * \n"
     ]
    }
   ],
   "source": [
    "n=int(input())\n",
    "for i in range(n+1):\n",
    "    for j in range(i):\n",
    "        print(\"*\",end=\" \")\n",
    "    print(end=\"\\n\")"
   ]
  },
  {
   "cell_type": "code",
   "execution_count": 27,
   "metadata": {},
   "outputs": [
    {
     "name": "stdout",
     "output_type": "stream",
     "text": [
      "3\n",
      "\n",
      "1 \n",
      "1 2 \n",
      "1 2 3 \n"
     ]
    }
   ],
   "source": [
    "n=int(input())\n",
    "for i in range(n+1):\n",
    "    for j in range(i):\n",
    "        print(j+1,end=\" \")\n",
    "    print(end=\"\\n\")"
   ]
  },
  {
   "cell_type": "code",
   "execution_count": 32,
   "metadata": {},
   "outputs": [
    {
     "name": "stdout",
     "output_type": "stream",
     "text": [
      "3\n",
      "* * * \n",
      "* * \n",
      "* \n"
     ]
    }
   ],
   "source": [
    "n=int(input())\n",
    "for i in range(n,0,-1):\n",
    "    for j in range(0,i):\n",
    "        print(\"*\",end=\" \")\n",
    "    print(end=\"\\n\")"
   ]
  },
  {
   "cell_type": "code",
   "execution_count": 35,
   "metadata": {},
   "outputs": [
    {
     "name": "stdout",
     "output_type": "stream",
     "text": [
      "3\n",
      "1 2 3 \n",
      "1 2 \n",
      "1 \n"
     ]
    }
   ],
   "source": [
    "n=int(input())\n",
    "for i in range(n,0,-1):\n",
    "    for j in range(0,i):\n",
    "        print(j+1,end=\" \")\n",
    "    print(end=\"\\n\")"
   ]
  },
  {
   "cell_type": "code",
   "execution_count": 36,
   "metadata": {},
   "outputs": [
    {
     "name": "stdout",
     "output_type": "stream",
     "text": [
      "3\n",
      "\n",
      "3 \n",
      "3 3 \n",
      "3 3 3 \n"
     ]
    }
   ],
   "source": [
    "n=int(input())\n",
    "for i in range(n+1):\n",
    "    for j in range(i):\n",
    "        print(n,end=\" \")\n",
    "    print(end=\"\\n\")"
   ]
  },
  {
   "cell_type": "code",
   "execution_count": 73,
   "metadata": {},
   "outputs": [
    {
     "name": "stdout",
     "output_type": "stream",
     "text": [
      "5\n",
      "          * \n",
      "        * * \n",
      "      * * * \n",
      "    * * * * \n",
      "  * * * * * \n"
     ]
    }
   ],
   "source": [
    "n=int(input())\n",
    "m=n\n",
    "while n>0:\n",
    "    i=0\n",
    "    while(i<n):\n",
    "        print(\" \",end=\" \")\n",
    "        i=i+1\n",
    "    while(i>=n):\n",
    "        print(\"*\",end=\" \")\n",
    "        i=i+1\n",
    "        if(i>m):\n",
    "            break\n",
    "    print(end=\"\\n\")\n",
    "    n=n-1"
   ]
  },
  {
   "cell_type": "code",
   "execution_count": 6,
   "metadata": {},
   "outputs": [
    {
     "name": "stdout",
     "output_type": "stream",
     "text": [
      "3\n",
      "     *  \n",
      "   *   *  \n",
      " *   *   *  \n"
     ]
    }
   ],
   "source": [
    "n=int(input())\n",
    "for i in range(n):\n",
    "    for j in range(n-i-1):\n",
    "        print(\" \",end=\" \")\n",
    "    for j in range(i+1):\n",
    "            print(\" * \" ,end=\" \")\n",
    "    print(end=\"\\n\")\n",
    "    "
   ]
  },
  {
   "cell_type": "code",
   "execution_count": 27,
   "metadata": {},
   "outputs": [
    {
     "name": "stdout",
     "output_type": "stream",
     "text": [
      "3\n"
     ]
    }
   ],
   "source": [
    "n=int(input())\n",
    "m=n\n",
    "for i in range(1,n,-1):\n",
    "    while n>0:\n",
    "        i=0\n",
    "        while(i<n):\n",
    "            print(\" \",end=\" \")\n",
    "            i=i+1\n",
    "            while(i<=n):\n",
    "                print(\"*\",end=\" \")\n",
    "                i=i+1 \n",
    "                if(i>n+1):\n",
    "                    break\n",
    "                    print(end=\"\\n\")\n",
    "                    n=n-1"
   ]
  },
  {
   "cell_type": "code",
   "execution_count": 32,
   "metadata": {},
   "outputs": [
    {
     "name": "stdout",
     "output_type": "stream",
     "text": [
      "i\n",
      "in\n",
      "ind\n",
      "indi\n",
      "india\n"
     ]
    }
   ],
   "source": [
    "s=\"india\"\n",
    "x=\"\"\n",
    "for i in s:\n",
    "    x+=i\n",
    "    print(x)"
   ]
  },
  {
   "cell_type": "code",
   "execution_count": 40,
   "metadata": {
    "scrolled": true
   },
   "outputs": [
    {
     "name": "stdout",
     "output_type": "stream",
     "text": [
      "A  \n",
      "B C  \n",
      "D E F  \n",
      "G H I J  \n",
      "K L M N O  \n",
      "P Q R S T U  \n",
      "V W X Y Z [ \\  \n"
     ]
    }
   ],
   "source": [
    "a=65\n",
    "r=7\n",
    "for i in range(0,r):\n",
    "    for j in range(0,i+1):\n",
    "        ch=chr(a)\n",
    "        print(ch,end=\" \" )\n",
    "        a+=1\n",
    "    print(\" \")\n",
    "              "
   ]
  },
  {
   "cell_type": "code",
   "execution_count": 37,
   "metadata": {},
   "outputs": [
    {
     "name": "stdout",
     "output_type": "stream",
     "text": [
      "                         A  \n",
      "                     B       C  \n",
      "                 D       E       F  \n",
      "             G       H       I       J  \n",
      "         K       L       M       N       O  \n",
      "     P       Q       R       S       T       U  \n"
     ]
    }
   ],
   "source": [
    "a=65\n",
    "r=6\n",
    "\n",
    "k=10\n",
    "for i in range(0, r):\n",
    "    for j in range(0,k):\n",
    "        print(end=\"  \")\n",
    "    k=k-2\n",
    "    for j in range(0, i+1):\n",
    "        ch=chr(a)\n",
    "        print(\"    \", ch,end=\"  \" )\n",
    "        a+=1\n",
    "    print(\"\")"
   ]
  },
  {
   "cell_type": "code",
   "execution_count": 11,
   "metadata": {},
   "outputs": [
    {
     "name": "stdout",
     "output_type": "stream",
     "text": [
      "10\n",
      "1 \n",
      "2 4 \n",
      "3 6 9 \n",
      "4 8 12 16 \n",
      "5 10 15 20 25 \n",
      "6 12 18 24 30 36 \n",
      "7 14 21 28 35 42 49 \n",
      "8 16 24 32 40 48 56 64 \n",
      "9 18 27 36 45 54 63 72 81 \n",
      "10 20 30 40 50 60 70 80 90 100 \n"
     ]
    }
   ],
   "source": [
    "n=int(input())\n",
    "for i in range(1,n+1):\n",
    "    for j in range(1,i+1):\n",
    "        print(i*j,end=' ')\n",
    "    print()\n"
   ]
  },
  {
   "cell_type": "code",
   "execution_count": 10,
   "metadata": {},
   "outputs": [
    {
     "name": "stdout",
     "output_type": "stream",
     "text": [
      "10\n"
     ]
    }
   ],
   "source": [
    "###functions\n",
    "'''def username(arg1,arg2...n):\n",
    "    return'''\n",
    "def diff(a, b):\n",
    "    return a-b\n",
    "a=20\n",
    "b=10\n",
    "operation=diff\n",
    "print(operation(a,b))\n",
    "    "
   ]
  },
  {
   "cell_type": "code",
   "execution_count": 28,
   "metadata": {},
   "outputs": [
    {
     "name": "stdout",
     "output_type": "stream",
     "text": [
      "*\n",
      " *\n",
      "  *\n",
      "   *\n",
      "    *\n"
     ]
    }
   ],
   "source": [
    "for i in range(0,5):\n",
    "    st=\"\"\n",
    "    for j in range(0,i):\n",
    "        st=st+\" \"\n",
    "    st=st+\"*\"\n",
    "    print(st)\n"
   ]
  },
  {
   "cell_type": "code",
   "execution_count": 11,
   "metadata": {},
   "outputs": [
    {
     "name": "stdout",
     "output_type": "stream",
     "text": [
      "3\n",
      "      * \n",
      "    * * \n",
      "  * * * \n"
     ]
    }
   ],
   "source": [
    "n=int(input())\n",
    "m=n\n",
    "while n>0:\n",
    "    i=0\n",
    "    while(i<n):\n",
    "        print(\" \",end=\" \")\n",
    "        i=i+1\n",
    "    while(i>=n):\n",
    "        print(\"*\",end=\" \")\n",
    "        i=i+1\n",
    "        if(i>m):\n",
    "            break\n",
    "    print(end=\"\\n\")\n",
    "    n=n-1"
   ]
  },
  {
   "cell_type": "code",
   "execution_count": 34,
   "metadata": {},
   "outputs": [
    {
     "name": "stdout",
     "output_type": "stream",
     "text": [
      "4\n",
      "      *       \n",
      "      *       \n",
      "      *       \n",
      "* * * * * * * \n",
      "      *       \n",
      "      *       \n",
      "      *       \n"
     ]
    }
   ],
   "source": [
    "s=int(input())\n",
    "for i in range(1,2*s):\n",
    "    for j in range(1,2*s):\n",
    "        if (i==s) or (j==s):\n",
    "            print(\"*\",end=\" \")\n",
    "        else:\n",
    "            print(\" \",end=\" \")\n",
    "    print(end=\"\\n\")"
   ]
  },
  {
   "cell_type": "code",
   "execution_count": 3,
   "metadata": {},
   "outputs": [
    {
     "name": "stdout",
     "output_type": "stream",
     "text": [
      "sweet vitamin A Golden yellow\n"
     ]
    }
   ],
   "source": [
    "#abstract class\n",
    "class fruit:\n",
    "    def taste(self):\n",
    "        raise NotImplementedError()\n",
    "    def rich(self):\n",
    "        raise NotImplementedError()\n",
    "    def color(self):\n",
    "        raise NotImplementedError()\n",
    "class mango(fruit):\n",
    "    def taste(self):\n",
    "        return \"sweet\"\n",
    "    def rich(self):\n",
    "        return \"vitamin A\"\n",
    "    def color(self):\n",
    "        return \"Golden yellow\"\n",
    "class orange(fruit):\n",
    "    def taste(self):\n",
    "        return \"sour\"\n",
    "    def rich(self):\n",
    "        return \"vitamin c\"\n",
    "    def color(self):\n",
    "        return \"orange\"\n",
    "alphanso=mango()\n",
    "print(alphanso.taste(),alphanso.rich(),alphanso.color())\n",
    "    "
   ]
  },
  {
   "cell_type": "code",
   "execution_count": 16,
   "metadata": {},
   "outputs": [
    {
     "name": "stdout",
     "output_type": "stream",
     "text": [
      "result is \n",
      "( 4 + 6 i)\n"
     ]
    }
   ],
   "source": [
    "#Program to interviene polymorphism on a comlplex number\n",
    "class complex():\n",
    "    def __init__(self):\n",
    "        self.real=0\n",
    "        self.img=0\n",
    "    def setValue(self,real,img):\n",
    "        self.real=real\n",
    "        self.img=img\n",
    "    def __add__(self,c):\n",
    "        temp=complex()\n",
    "        temp.real=self.real+c.real\n",
    "        temp.img=self.img+c.img\n",
    "        return temp\n",
    "    def display(self):\n",
    "        print(\"(\",self.real,\"+\",self.img,\"i)\")\n",
    "c1=complex()\n",
    "c1.setValue(1,2)\n",
    "c2=complex()\n",
    "c2.setValue(3,4)\n",
    "c3=c1+c2\n",
    "print(\"result is \")\n",
    "c3.display()"
   ]
  },
  {
   "cell_type": "code",
   "execution_count": null,
   "metadata": {},
   "outputs": [],
   "source": [
    "operator----function name-----\n",
    "+           __add__\n",
    "+=          __iadd__\n",
    "-           __sub__\n",
    "-=          __isub__\n",
    "*           __mul__\n",
    "*=          __imul__\n",
    "/           __truediv__\n",
    "/=          __idiv__\n",
    "**          __pow__\n",
    "**=         __ipow\n"
   ]
  },
  {
   "cell_type": "code",
   "execution_count": 21,
   "metadata": {},
   "outputs": [
    {
     "name": "stdout",
     "output_type": "stream",
     "text": [
      "enter rectangle len6\n",
      "enter rectangle bredth4\n",
      "  24.0\n",
      "enter rectangle base3\n",
      "enter rectangle height2\n",
      " 3.0\n"
     ]
    }
   ],
   "source": [
    "#program that has abstract class to derive 2 classes rectangle and triangle from a ploygon class and write the methods to get their details and dimenssions and hence calculate the area respectively\n",
    "class polygon:\n",
    "    def get_data(self):\n",
    "        raise notImplementedError()\n",
    "    def area(self):\n",
    "        raise notImplementedError()\n",
    "    def area(self):\n",
    "        raise notImplementedError()\n",
    "class rectangle(polygon):\n",
    "    def get_data(self):\n",
    "        self.length=float(input(\"enter rectangle len\"))\n",
    "        self.breadth=float(input(\"enter rectangle bredth\"))\n",
    "    def area(self):\n",
    "        return self.length*self.breadth\n",
    "class triangle(polygon): \n",
    "    def get_data(self):\n",
    "        self.base=float(input(\"enter rectangle base\"))\n",
    "        self.height=float(input(\"enter rectangle height\"))\n",
    "    def area(self):\n",
    "        return 0.5*self.base*self.height\n",
    "        \n",
    "R=rectangle()\n",
    "R.get_data()\n",
    "print(\" \",R.area())\n",
    "T=triangle()\n",
    "T.get_data()\n",
    "print(\"\",T.area())\n",
    "    "
   ]
  },
  {
   "cell_type": "code",
   "execution_count": 22,
   "metadata": {},
   "outputs": [
    {
     "name": "stdout",
     "output_type": "stream",
     "text": [
      "roll num is  229\n"
     ]
    }
   ],
   "source": [
    "#encapsuling public member \n",
    "class pub:\n",
    "    def __init__(self,name,num):\n",
    "        self.name=name\n",
    "        self.num=num\n",
    "    def Num(self):\n",
    "        print(\"roll num is \",self.num)\n",
    "obj=pub(\"harry\",229)\n",
    "obj.Num()"
   ]
  },
  {
   "cell_type": "code",
   "execution_count": 26,
   "metadata": {},
   "outputs": [
    {
     "name": "stdout",
     "output_type": "stream",
     "text": [
      "50\n"
     ]
    }
   ],
   "source": [
    "#program to overload the __call__method\n",
    "class multi:\n",
    "    def __init__(self,num):\n",
    "        self.num=num\n",
    "    def __call__(self,O):\n",
    "        return self.num*O\n",
    "x=multi(10)\n",
    "print(x(5))"
   ]
  },
  {
   "cell_type": "code",
   "execution_count": 32,
   "metadata": {},
   "outputs": [
    {
     "name": "stdout",
     "output_type": "stream",
     "text": [
      "list is....\n",
      "[1, 2, 3, 4, 5, 6, 7, 8, 9]\n",
      "enter thre index of the list4\n",
      "5\n",
      "enter the position u want to modify1\n",
      "[1, 2, 3, 4, 1, 6, 7, 8, 9]\n",
      "the length of the list is 9\n"
     ]
    }
   ],
   "source": [
    "class mylist:\n",
    "    def __init__(self,List):\n",
    "        self.List=List\n",
    "    def __getitem__(self,index):\n",
    "        return self.List[index]\n",
    "    def __setitem__(self,index,num):\n",
    "        self.List[index]=num\n",
    "    def __len__(self):\n",
    "        return len(self.List)\n",
    "    def display(self):\n",
    "        print(self.List)\n",
    "L=mylist([1,2,3,4,5,6,7,8,9])\n",
    "print(\"list is....\")\n",
    "L.display()\n",
    "index=int(input(\"enter thre index of the list\"))\n",
    "print(L[index])\n",
    "num=int(input(\"enter the position u want to modify\"))\n",
    "L[index]=num\n",
    "L.display()\n",
    "print(\"the length of the list is\",len(L))"
   ]
  },
  {
   "cell_type": "code",
   "execution_count": 30,
   "metadata": {},
   "outputs": [],
   "source": [
    "class number:\n",
    "    def __init__(self,num):\n",
    "        self.num=num\n",
    "    def display(self):\n",
    "        return self.num\n",
    "    def __abs__(self):\n",
    "        return abs(self.num)"
   ]
  },
  {
   "cell_type": "code",
   "execution_count": 33,
   "metadata": {},
   "outputs": [
    {
     "ename": "SyntaxError",
     "evalue": "unexpected EOF while parsing (<ipython-input-33-a21f0f32a9e6>, line 2)",
     "output_type": "error",
     "traceback": [
      "\u001b[1;36m  File \u001b[1;32m\"<ipython-input-33-a21f0f32a9e6>\"\u001b[1;36m, line \u001b[1;32m2\u001b[0m\n\u001b[1;33m    def __init__(self,name,age):\u001b[0m\n\u001b[1;37m                                ^\u001b[0m\n\u001b[1;31mSyntaxError\u001b[0m\u001b[1;31m:\u001b[0m unexpected EOF while parsing\n"
     ]
    }
   ],
   "source": [
    "class base1(object):\n",
    "    def __init__(self):\n",
    "        print(\"base class\")"
   ]
  },
  {
   "cell_type": "code",
   "execution_count": null,
   "metadata": {},
   "outputs": [],
   "source": []
  }
 ],
 "metadata": {
  "kernelspec": {
   "display_name": "Python 3",
   "language": "python",
   "name": "python3"
  },
  "language_info": {
   "codemirror_mode": {
    "name": "ipython",
    "version": 3
   },
   "file_extension": ".py",
   "mimetype": "text/x-python",
   "name": "python",
   "nbconvert_exporter": "python",
   "pygments_lexer": "ipython3",
   "version": "3.8.5"
  }
 },
 "nbformat": 4,
 "nbformat_minor": 4
}
