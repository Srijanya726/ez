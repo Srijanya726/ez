{
 "cells": [
  {
   "cell_type": "code",
   "execution_count": 1,
   "metadata": {},
   "outputs": [
    {
     "name": "stdout",
     "output_type": "stream",
     "text": [
      "Happy number\n"
     ]
    }
   ],
   "source": [
    "def happ(num):\n",
    "    rem= 0\n",
    "    sum=0\n",
    "    while(num>0):\n",
    "        rem = num%10\n",
    "        sum =sum+(rem*rem)\n",
    "        num = num//10\n",
    "    return sum\n",
    "num= 97\n",
    "result = num\n",
    "while(result !=1 and result !=4):\n",
    "    result= happ(result)\n",
    "if result ==1:\n",
    "    print(\"Happy number\")\n",
    "else:\n",
    "    printf(\"not happy\")"
   ]
  },
  {
   "cell_type": "code",
   "execution_count": null,
   "metadata": {},
   "outputs": [],
   "source": [
    "num= str(input())\n",
    "print(int(num,17))\n",
    "    "
   ]
  },
  {
   "cell_type": "code",
   "execution_count": null,
   "metadata": {},
   "outputs": [],
   "source": [
    "def happ(num):\n",
    "    rem= 0\n",
    "    sum=0\n",
    "    while(num>0):\n",
    "        \n",
    "        num = num//10\n",
    "    return sum\n",
    "num= 12\n",
    "result = num\n"
   ]
  },
  {
   "cell_type": "code",
   "execution_count": null,
   "metadata": {},
   "outputs": [],
   "source": [
    "f=float(input(\"enter the vallue\"))\n",
    "c=(0.58)*(f-32)\n",
    "print(c)"
   ]
  },
  {
   "cell_type": "code",
   "execution_count": null,
   "metadata": {},
   "outputs": [],
   "source": [
    "x=10\n",
    "if x>0:\n",
    "    x=x+10\n",
    "    print(x)\n",
    "    print(\"positive\")\n",
    "else:\n",
    "    print(\"negative\")"
   ]
  },
  {
   "cell_type": "code",
   "execution_count": null,
   "metadata": {},
   "outputs": [],
   "source": [
    "str =\"Hello Mini is hi is\"\n",
    "str1 =input()\n",
    "count=0\n",
    "\n",
    "if str1 in str:\n",
    "    count=count+1\n",
    "print(count)\n",
    "    "
   ]
  },
  {
   "cell_type": "code",
   "execution_count": null,
   "metadata": {},
   "outputs": [],
   "source": [
    "name ='mini'\n",
    "country='india'\n",
    "print(f'{name} is born in {country}')"
   ]
  },
  {
   "cell_type": "code",
   "execution_count": null,
   "metadata": {},
   "outputs": [],
   "source": [
    "total_candies = 10\n",
    "no_of_candies = int(input())\n",
    "if no_of_candies in range(1, 6):\n",
    "    print('No. of Candies Sold:',no_of_candies)\n",
    "    print('No. of Candies Left:',total_candies-no_of_candies)\n",
    "else:\n",
    "    print(\"Invalid Input\")\n",
    "    print('No. of Candies Left:',total_candies)"
   ]
  },
  {
   "cell_type": "code",
   "execution_count": null,
   "metadata": {},
   "outputs": [],
   "source": [
    "size = int(input())\n",
    "max = 0\n",
    "count =0\n",
    "flag =0\n",
    "str = input()\n",
    "arr = list(str)\n",
    "for i in range(0,size):\n",
    "    if arr[i]=='1':\n",
    "        count = count+1\n",
    "        flag =1\n",
    "    elif(arr[i]=='0' and flag ==1):\n",
    "        count=0\n",
    "        flag=0\n",
    "    if count >max:\n",
    "        max= count\n",
    "print(max)\n",
    "        "
   ]
  },
  {
   "cell_type": "code",
   "execution_count": null,
   "metadata": {},
   "outputs": [],
   "source": [
    "i=0\n",
    "while(i<=10):\n",
    "    print(i,end=\"\")\n",
    "    i+=1"
   ]
  },
  {
   "cell_type": "code",
   "execution_count": null,
   "metadata": {},
   "outputs": [],
   "source": []
  }
 ],
 "metadata": {
  "kernelspec": {
   "display_name": "Python 3",
   "language": "python",
   "name": "python3"
  },
  "language_info": {
   "codemirror_mode": {
    "name": "ipython",
    "version": 3
   },
   "file_extension": ".py",
   "mimetype": "text/x-python",
   "name": "python",
   "nbconvert_exporter": "python",
   "pygments_lexer": "ipython3",
   "version": "3.8.5"
  }
 },
 "nbformat": 4,
 "nbformat_minor": 4
}
