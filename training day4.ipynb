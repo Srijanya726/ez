{
 "cells": [
  {
   "cell_type": "code",
   "execution_count": 6,
   "metadata": {},
   "outputs": [
    {
     "name": "stdout",
     "output_type": "stream",
     "text": [
      "  hi\n",
      "  hi\n",
      "var is hi\n"
     ]
    }
   ],
   "source": [
    "var1=\"hi\"\n",
    "def abc():\n",
    "    global var1\n",
    "    var2=\"mini\"\n",
    "    print(\" \",var1)\n",
    "abc()\n",
    "print(\" \",var1)\n",
    "print(\"var is\",var1)"
   ]
  },
  {
   "cell_type": "code",
   "execution_count": 10,
   "metadata": {},
   "outputs": [
    {
     "name": "stdout",
     "output_type": "stream",
     "text": [
      "iv  22\n",
      "ov  11\n"
     ]
    }
   ],
   "source": [
    "#access of variable in inner & outer func\n",
    "def out_fun():\n",
    "    out_var=11\n",
    "    def inner_fun():\n",
    "        inner_var=22\n",
    "        print(\"iv \",inner_var)\n",
    "    inner_fun()\n",
    "    print(\"ov \",out_var)\n",
    "out_fun()"
   ]
  },
  {
   "cell_type": "code",
   "execution_count": 14,
   "metadata": {},
   "outputs": [
    {
     "name": "stdout",
     "output_type": "stream",
     "text": [
      "cube of 10 = 1000\n"
     ]
    }
   ],
   "source": [
    "#writing a func and return its cubation formate\n",
    "def cube(y):\n",
    "    return(y*y*y)\n",
    "num=10\n",
    "result=cube(num)\n",
    "print(\"cube of\",num,\"=\",result)"
   ]
  },
  {
   "cell_type": "code",
   "execution_count": 28,
   "metadata": {},
   "outputs": [
    {
     "name": "stdout",
     "output_type": "stream",
     "text": [
      "hi studentsx 10\n"
     ]
    }
   ],
   "source": [
    "def abc(x):\n",
    "    print(\"hi students\"+ \"x\",x)\n",
    "abc(10)"
   ]
  },
  {
   "cell_type": "code",
   "execution_count": 34,
   "metadata": {},
   "outputs": [
    {
     "name": "stdout",
     "output_type": "stream",
     "text": [
      "mini 10\n"
     ]
    }
   ],
   "source": [
    "#mismatch parameter\n",
    "def fun(i):\n",
    "    print(\"mini\",i)\n",
    "j=10\n",
    "fun(j)"
   ]
  },
  {
   "cell_type": "code",
   "execution_count": 37,
   "metadata": {},
   "outputs": [
    {
     "name": "stdout",
     "output_type": "stream",
     "text": [
      "mini 13\n"
     ]
    }
   ],
   "source": [
    "\n",
    "def fun(i):\n",
    "    print(\"mini\",i)\n",
    "fun(5+6+2)"
   ]
  },
  {
   "cell_type": "code",
   "execution_count": 38,
   "metadata": {},
   "outputs": [
    {
     "name": "stdout",
     "output_type": "stream",
     "text": [
      "mini is good girl good\n",
      "mini is good girl 1234\n",
      "mini is good girl 732.378\n"
     ]
    }
   ],
   "source": [
    "def display(str,int_x,float_y):\n",
    "    print(\"mini is good girl\",str)\n",
    "    print(\"mini is good girl\",int_x)\n",
    "    print(\"mini is good girl\",float_y)\n",
    "display(float_y=732.378,str=\"good\",int_x=1234)"
   ]
  },
  {
   "cell_type": "code",
   "execution_count": 40,
   "metadata": {},
   "outputs": [
    {
     "name": "stdout",
     "output_type": "stream",
     "text": [
      "sum 30\n"
     ]
    },
    {
     "data": {
      "text/plain": [
       "70"
      ]
     },
     "execution_count": 40,
     "metadata": {},
     "output_type": "execute_result"
    }
   ],
   "source": [
    "a=lambda x,y:x+y\n",
    "print(\"sum\",a(10,20))\n",
    "a(30,40)"
   ]
  },
  {
   "cell_type": "code",
   "execution_count": 50,
   "metadata": {},
   "outputs": [
    {
     "name": "stdout",
     "output_type": "stream",
     "text": [
      "  -1\n"
     ]
    }
   ],
   "source": [
    "def small(a,b):\n",
    "    if(a<b):\n",
    "        return a\n",
    "    else:\n",
    "        return b\n",
    "m=lambda x,y:x+y\n",
    "n=lambda x,y:x-y\n",
    "print(\" \",small(m(-3,4),n(1,2)))"
   ]
  },
  {
   "cell_type": "code",
   "execution_count": 47,
   "metadata": {},
   "outputs": [
    {
     "name": "stdout",
     "output_type": "stream",
     "text": [
      "a= 100\n",
      " \n",
      "101\n"
     ]
    }
   ],
   "source": [
    "def increment(y):\n",
    "    return(lambda x:x+1)(y)\n",
    "a=100\n",
    "print(\"a=\",a)\n",
    "print(\" \")\n",
    "b=increment(a)\n",
    "print(b)"
   ]
  },
  {
   "cell_type": "code",
   "execution_count": 51,
   "metadata": {},
   "outputs": [
    {
     "name": "stdout",
     "output_type": "stream",
     "text": [
      "8\n",
      "9\n"
     ]
    }
   ],
   "source": [
    "def fun(f,n):\n",
    "    print(f(n))\n",
    "twice=lambda x:x*2\n",
    "triple=lambda x:x*3\n",
    "fun(twice,4)\n",
    "fun(triple,3)"
   ]
  },
  {
   "cell_type": "code",
   "execution_count": 53,
   "metadata": {},
   "outputs": [
    {
     "name": "stdout",
     "output_type": "stream",
     "text": [
      "27\n"
     ]
    }
   ],
   "source": [
    "a=lambda x,y:x+y\n",
    "m_and_a=lambda x,y,z:x*a(y,z)\n",
    "print(m_and_a(3,4,5))"
   ]
  },
  {
   "cell_type": "code",
   "execution_count": 61,
   "metadata": {},
   "outputs": [
    {
     "name": "stdout",
     "output_type": "stream",
     "text": [
      "mini ch\n"
     ]
    }
   ],
   "source": [
    "#write a program to return the full name of  a person where 1st variable is passed\n",
    "def name(fn,ln):\n",
    "    s=\" \"\n",
    "    n=fn+s+ln\n",
    "    return n\n",
    "print(\"mini\",\"ch\")"
   ]
  },
  {
   "cell_type": "code",
   "execution_count": 63,
   "metadata": {},
   "outputs": [
    {
     "name": "stdout",
     "output_type": "stream",
     "text": [
      "4\n",
      "even\n"
     ]
    }
   ],
   "source": [
    "def eo(n):\n",
    "    if a%2==0:\n",
    "        return 1\n",
    "    else:\n",
    "        return -1\n",
    "a=int(input())\n",
    "flag=eo(a)\n",
    "if flag==1:\n",
    "    print(\"even\")\n",
    "else:\n",
    "    print(\"odd\")"
   ]
  },
  {
   "cell_type": "code",
   "execution_count": 68,
   "metadata": {},
   "outputs": [
    {
     "name": "stdout",
     "output_type": "stream",
     "text": [
      "6\n",
      "5\n",
      "result 7776\n"
     ]
    }
   ],
   "source": [
    "#find the exp(x,y)using recursion function\n",
    "def expo(x,y):\n",
    "    if y==0:\n",
    "        return 1\n",
    "    else:\n",
    "        return(x*expo(x,y-1))\n",
    "n=int(input())\n",
    "m=int(input())\n",
    "print(\"result\",expo(n,m))\n"
   ]
  },
  {
   "cell_type": "code",
   "execution_count": 73,
   "metadata": {},
   "outputs": [
    {
     "name": "stdout",
     "output_type": "stream",
     "text": [
      "10\n",
      "  0\n",
      "  1\n",
      "  1\n",
      "  2\n",
      "  3\n",
      "  5\n",
      "  8\n",
      "  13\n",
      "  21\n",
      "  34\n"
     ]
    }
   ],
   "source": [
    "def fib(n):\n",
    "    if n<2:\n",
    "        return n\n",
    "    return(fib(n-1)+fib(n-2))\n",
    "n=int(input())\n",
    "for i in range(n):\n",
    "    print(\" \",fib(i))"
   ]
  },
  {
   "cell_type": "code",
   "execution_count": 85,
   "metadata": {},
   "outputs": [
    {
     "name": "stdout",
     "output_type": "stream",
     "text": [
      "[1, 2, 3, 4] [] []\n",
      "[] [] [4, 3, 2, 1]\n"
     ]
    }
   ],
   "source": [
    "#tower of hannoi\n",
    "def hanoi(n,a,b,c):\n",
    "    if n>0:\n",
    "        hanoi(n-1,a,b,c)\n",
    "        if a:\n",
    "            c.append(a.pop())\n",
    "        hanoi(n-1,b,a,c)\n",
    "a=[1,2,3,4]\n",
    "b=[]\n",
    "c=[]\n",
    "print(a,b,c)\n",
    "hanoi(len(a),a,b,c)\n",
    "print(a,b,c)         "
   ]
  },
  {
   "cell_type": "code",
   "execution_count": 87,
   "metadata": {},
   "outputs": [
    {
     "ename": "TypeError",
     "evalue": "unhashable type: 'list'",
     "output_type": "error",
     "traceback": [
      "\u001b[1;31m---------------------------------------------------------------------------\u001b[0m",
      "\u001b[1;31mTypeError\u001b[0m                                 Traceback (most recent call last)",
      "\u001b[1;32m<ipython-input-87-bede4ca5c37c>\u001b[0m in \u001b[0;36m<module>\u001b[1;34m\u001b[0m\n\u001b[0;32m      3\u001b[0m \u001b[0mresult\u001b[0m\u001b[1;33m=\u001b[0m\u001b[1;33m{\u001b[0m\u001b[1;33m}\u001b[0m\u001b[1;33m\u001b[0m\u001b[1;33m\u001b[0m\u001b[0m\n\u001b[0;32m      4\u001b[0m \u001b[1;32mfor\u001b[0m \u001b[0mword\u001b[0m \u001b[1;32min\u001b[0m \u001b[0mw\u001b[0m\u001b[1;33m:\u001b[0m\u001b[1;33m\u001b[0m\u001b[1;33m\u001b[0m\u001b[0m\n\u001b[1;32m----> 5\u001b[1;33m     \u001b[0mresult\u001b[0m\u001b[1;33m[\u001b[0m\u001b[0mw\u001b[0m\u001b[1;33m]\u001b[0m\u001b[1;33m=\u001b[0m\u001b[0msum\u001b[0m\u001b[1;33m(\u001b[0m\u001b[0mmap\u001b[0m\u001b[1;33m(\u001b[0m\u001b[0mord\u001b[0m\u001b[1;33m,\u001b[0m\u001b[0mword\u001b[0m\u001b[1;33m)\u001b[0m\u001b[1;33m)\u001b[0m\u001b[1;33m\u001b[0m\u001b[1;33m\u001b[0m\u001b[0m\n\u001b[0m\u001b[0;32m      6\u001b[0m \u001b[0ms\u001b[0m\u001b[1;33m=\u001b[0m\u001b[1;36m0\u001b[0m\u001b[1;33m\u001b[0m\u001b[1;33m\u001b[0m\u001b[0m\n\u001b[0;32m      7\u001b[0m \u001b[0mss\u001b[0m\u001b[1;33m=\u001b[0m\u001b[1;33m[\u001b[0m\u001b[0mresult\u001b[0m\u001b[1;33m[\u001b[0m\u001b[0mw\u001b[0m\u001b[1;33m]\u001b[0m \u001b[1;32mfor\u001b[0m \u001b[0mworrd\u001b[0m \u001b[1;32min\u001b[0m \u001b[0mw\u001b[0m\u001b[1;33m]\u001b[0m\u001b[1;33m\u001b[0m\u001b[1;33m\u001b[0m\u001b[0m\n",
      "\u001b[1;31mTypeError\u001b[0m: unhashable type: 'list'"
     ]
    }
   ],
   "source": [
    "str=\"abc\"\n",
    "w=str.split(\" \")\n",
    "result={}\n",
    "for word in w:\n",
    "    result[w]=sum(map(ord,word))\n",
    "s=0\n",
    "ss=[result[w] for worrd in w]\n",
    "print(\" \".join(map(str,ss)))"
   ]
  },
  {
   "cell_type": "code",
   "execution_count": null,
   "metadata": {},
   "outputs": [],
   "source": []
  }
 ],
 "metadata": {
  "kernelspec": {
   "display_name": "Python 3",
   "language": "python",
   "name": "python3"
  },
  "language_info": {
   "codemirror_mode": {
    "name": "ipython",
    "version": 3
   },
   "file_extension": ".py",
   "mimetype": "text/x-python",
   "name": "python",
   "nbconvert_exporter": "python",
   "pygments_lexer": "ipython3",
   "version": "3.8.5"
  }
 },
 "nbformat": 4,
 "nbformat_minor": 4
}
