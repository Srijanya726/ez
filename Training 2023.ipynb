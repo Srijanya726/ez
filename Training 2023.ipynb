{
 "cells": [
  {
   "cell_type": "code",
   "execution_count": 3,
   "metadata": {},
   "outputs": [
    {
     "name": "stdout",
     "output_type": "stream",
     "text": [
      "6\n",
      "101000\n",
      "1\n"
     ]
    }
   ],
   "source": [
    "size=int(input())\n",
    "max=0\n",
    "count=0\n",
    "flag=0\n",
    "str=input()\n",
    "arr=list(str)\n",
    "for i in range(0,size):\n",
    "    if arr[i]=='1':\n",
    "        count=count+1;\n",
    "        flag=1\n",
    "    elif (arr[i]=='0' and flag==1):\n",
    "        count=0\n",
    "        flag=0\n",
    "    if count>max:\n",
    "        max=count\n",
    "print(max)"
   ]
  },
  {
   "cell_type": "code",
   "execution_count": 8,
   "metadata": {},
   "outputs": [
    {
     "name": "stdout",
     "output_type": "stream",
     "text": [
      "200\n",
      "540\n",
      "tw 130\n",
      "fw 70\n"
     ]
    }
   ],
   "source": [
    "v=int(input())\n",
    "w=int(input())\n",
    "if w&1==1 or w<2 or w<=v:\n",
    "    print(\"invalid iput\")\n",
    "else:\n",
    "    x=((4*v)-w)//2\n",
    "print(\"tw\",x)\n",
    "print(\"fw\",v-x)"
   ]
  },
  {
   "cell_type": "code",
   "execution_count": 14,
   "metadata": {},
   "outputs": [
    {
     "name": "stdout",
     "output_type": "stream",
     "text": [
      "Inorder traversal of a bst\n",
      "98\n",
      "55\n",
      "24\n",
      "22\n",
      "15\n",
      "14\n",
      "10\n",
      "5\n"
     ]
    }
   ],
   "source": [
    "class bt:\n",
    "    def __init__(self, data):\n",
    "        self.data= data\n",
    "        self.lc = None\n",
    "        self.rc = None\n",
    "def insert(root, newvalue):\n",
    "    if root is None:\n",
    "        root = bt(newvalue)\n",
    "        return root\n",
    "    if newvalue>root.data:\n",
    "        root.lc=insert(root.lc, newvalue)\n",
    "    else:\n",
    "        root.rc=insert(root.rc, newvalue)\n",
    "    return root\n",
    "def inorder(root):\n",
    "    if root == None:\n",
    "        return\n",
    "    inorder(root.lc)\n",
    "    print(root.data)\n",
    "    inorder(root.rc)\n",
    "root = insert(None, 15)\n",
    "insert(root, 10)\n",
    "insert(root, 24)\n",
    "insert(root, 5)\n",
    "insert(root, 14)\n",
    "insert(root, 22)\n",
    "insert(root, 55)\n",
    "insert(root, 98)\n",
    "print(\"Inorder traversal of a bst\")\n",
    "inorder(root)"
   ]
  },
  {
   "cell_type": "code",
   "execution_count": 15,
   "metadata": {},
   "outputs": [
    {
     "ename": "NameError",
     "evalue": "name 'Node' is not defined",
     "output_type": "error",
     "traceback": [
      "\u001b[1;31m---------------------------------------------------------------------------\u001b[0m",
      "\u001b[1;31mNameError\u001b[0m                                 Traceback (most recent call last)",
      "\u001b[1;32m<ipython-input-15-a2e4be038f1e>\u001b[0m in \u001b[0;36m<module>\u001b[1;34m\u001b[0m\n\u001b[1;32m----> 1\u001b[1;33m \u001b[0mroot\u001b[0m\u001b[1;33m=\u001b[0m\u001b[0mNode\u001b[0m\u001b[1;33m(\u001b[0m\u001b[1;36m1\u001b[0m\u001b[1;33m)\u001b[0m\u001b[1;33m\u001b[0m\u001b[1;33m\u001b[0m\u001b[0m\n\u001b[0m\u001b[0;32m      2\u001b[0m \u001b[0mroot\u001b[0m\u001b[1;33m=\u001b[0m\u001b[0mNode\u001b[0m\u001b[1;33m(\u001b[0m\u001b[1;36m1\u001b[0m\u001b[1;33m)\u001b[0m\u001b[1;33m\u001b[0m\u001b[1;33m\u001b[0m\u001b[0m\n",
      "\u001b[1;31mNameError\u001b[0m: name 'Node' is not defined"
     ]
    }
   ],
   "source": [
    "class Node:\n",
    "    def __int__(self,data)\n",
    "if __name__=='__main__':\n",
    "    root=Node(1)\n",
    "root=Node(1)\n",
    "root.=Node(1)\n",
    "root=Node(1)\n",
    "root=Node(1)\n",
    "root=Node(1)\n",
    "root=Node(1)\n",
    "root=Node(1)"
   ]
  },
  {
   "cell_type": "code",
   "execution_count": 9,
   "metadata": {},
   "outputs": [
    {
     "name": "stdout",
     "output_type": "stream",
     "text": [
      "8\n",
      "10 98 3 33 12 22 21 11\n",
      "[10, 98, 12, 22, 3, 33, 21, 11]\n"
     ]
    }
   ],
   "source": [
    "\n",
    "n=int(input())\n",
    "x=input().split()\n",
    "x=[int(i) for i in x]\n",
    "r=[]\n",
    "e=[]\n",
    "t=[]\n",
    "for i in x:\n",
    "    if(i%2==0):\n",
    "        r.append(i)\n",
    "    else:\n",
    "        e.append(i)\n",
    "t=r+e\n",
    "print(t)   \n"
   ]
  },
  {
   "cell_type": "code",
   "execution_count": 10,
   "metadata": {},
   "outputs": [
    {
     "name": "stdout",
     "output_type": "stream",
     "text": [
      "{'name': 'abc', 'age': '100', 'branch': 'aeronautical'}\n"
     ]
    }
   ],
   "source": [
    "##write a program to combine list to a dictionary to form a hash table\n",
    "#input : keys=['name','age','branch']\n",
    "    #values=['abc','100','aeronautical']##\n",
    "keys=['name','age','branch']\n",
    "values=['abc','100','aeronautical']\n",
    "dict={keys[i]:values[i] for i in range(len(keys))}\n",
    "print(dict)"
   ]
  },
  {
   "cell_type": "code",
   "execution_count": 12,
   "metadata": {},
   "outputs": [
    {
     "name": "stdout",
     "output_type": "stream",
     "text": [
      "{(0, 3): 1, (1, 0): 2, (1, 4): 3, (2, 3): 4}\n"
     ]
    }
   ],
   "source": [
    "#write a program to store a sparse matrix in to a dictionary\n",
    "#ex:[[0,0,0,1,0],[2,0,0,0,3],[0,0,0,4,0]]\n",
    "arr = [[0, 0, 0, 1, 0],[2, 0, 0, 0, 3],[0, 0, 0, 4, 0]]\n",
    "dic = {}\n",
    "for i in range(len(arr)):\n",
    "    for j in range(len(arr[i])):\n",
    "        if arr[i][j] != 0:\n",
    "            dic[i,j] = arr[i][j]\n",
    "print(dic)\n",
    "\n"
   ]
  },
  {
   "cell_type": "code",
   "execution_count": 13,
   "metadata": {},
   "outputs": [
    {
     "data": {
      "text/plain": [
       "['LEVEL']"
      ]
     },
     "execution_count": 13,
     "metadata": {},
     "output_type": "execute_result"
    }
   ],
   "source": [
    "#write a non repeated character in a string\n",
    "#ex I/P: level\n",
    "s=\"LEVEL\"\n",
    "s.split()\n"
   ]
  },
  {
   "cell_type": "code",
   "execution_count": 1,
   "metadata": {},
   "outputs": [
    {
     "name": "stdout",
     "output_type": "stream",
     "text": [
      "v\n"
     ]
    }
   ],
   "source": [
    "string = \"level\"\n",
    "index = 0\n",
    "fnc = \"\"\n",
    "for i in string:\n",
    "    if string.count(i) == 1:\n",
    "        fnc += i\n",
    "        break\n",
    "    else:\n",
    "        index += 1\n",
    "if index == 1:\n",
    "    print(\"Either all characters are repeating or string is empty\")\n",
    "else:\n",
    "    print(fnc)"
   ]
  },
  {
   "cell_type": "code",
   "execution_count": null,
   "metadata": {},
   "outputs": [],
   "source": [
    "# write a program to insert delete a node in "
   ]
  },
  {
   "cell_type": "code",
   "execution_count": 3,
   "metadata": {},
   "outputs": [
    {
     "name": "stdout",
     "output_type": "stream",
     "text": [
      "30\n",
      "10\n",
      "9\n",
      "30\n"
     ]
    }
   ],
   "source": [
    "x=int(input())\n",
    "y=int(input())\n",
    "z=int(input())\n",
    "if (x>y):\n",
    "    if(x>z):\n",
    "        print(x)\n",
    "    else:\n",
    "        print(z)\n",
    "else:\n",
    "    if(y>z):\n",
    "        print(y)\n",
    "    else:\n",
    "        print(z)"
   ]
  },
  {
   "cell_type": "code",
   "execution_count": 7,
   "metadata": {},
   "outputs": [
    {
     "name": "stdout",
     "output_type": "stream",
     "text": [
      "30\n"
     ]
    }
   ],
   "source": [
    "if (x>y and x>z):\n",
    "        print(x)\n",
    "elif(y>z and y>x):\n",
    "        print(y)\n",
    "else:\n",
    "        print(z)"
   ]
  },
  {
   "cell_type": "code",
   "execution_count": 11,
   "metadata": {},
   "outputs": [
    {
     "name": "stdout",
     "output_type": "stream",
     "text": [
      "3\n",
      "\n",
      "\n",
      "\n",
      "\n",
      "1 \n",
      "\n",
      "1 2 \n",
      "\n",
      "1 2 3 "
     ]
    }
   ],
   "source": [
    "n=int(input())\n",
    "for i in range(n+1):\n",
    "    print(\"\\n\")\n",
    "    for j in range(1,i+1):\n",
    "        print(j,end=\" \")"
   ]
  },
  {
   "cell_type": "code",
   "execution_count": 13,
   "metadata": {},
   "outputs": [
    {
     "name": "stdout",
     "output_type": "stream",
     "text": [
      "3\n",
      "\n",
      "\n",
      "\n",
      "\n",
      "* \n",
      "\n",
      "* * \n",
      "\n",
      "* * * "
     ]
    }
   ],
   "source": [
    "n=int(input())\n",
    "for i in range(n+1):\n",
    "    print(\"\\n\")\n",
    "    for j in range(1,i+1):\n",
    "        print('*',end=\" \")"
   ]
  },
  {
   "cell_type": "code",
   "execution_count": 2,
   "metadata": {},
   "outputs": [
    {
     "name": "stdout",
     "output_type": "stream",
     "text": [
      "5\n",
      "120\n"
     ]
    }
   ],
   "source": [
    "n=int(input())\n",
    "def fact(n):\n",
    "    if (n==1 or n==0):\n",
    "        return 1\n",
    "    else:\n",
    "        return (n)*fact(n-1)\n",
    "q=fact(n)\n",
    "print(q)"
   ]
  },
  {
   "cell_type": "code",
   "execution_count": null,
   "metadata": {},
   "outputs": [
    {
     "name": "stdout",
     "output_type": "stream",
     "text": [
      "5\n"
     ]
    }
   ],
   "source": [
    "\n",
    "n=int(input())\n",
    "def fibanocci(n):\n",
    "    if n<2:\n",
    "        return (fibanocci(n-1)+fibanocci(n-2))\n",
    "print(n)\n",
    "for i in range(n):\n",
    "    print(fibanocci(i))"
   ]
  },
  {
   "cell_type": "code",
   "execution_count": 2,
   "metadata": {},
   "outputs": [
    {
     "name": "stdout",
     "output_type": "stream",
     "text": [
      "5\n",
      "0\n",
      "1\n",
      "1\n",
      "2\n",
      "3\n"
     ]
    }
   ],
   "source": [
    "#fibanocci\n",
    "n=int(input())\n",
    "def fibonacci(n):\n",
    "    if n<2:\n",
    "        return n\n",
    "    return (fibonacci(n-1)+fibonacci(n-2))\n",
    "for i in range(n):\n",
    "    print(fibonacci(i))"
   ]
  },
  {
   "cell_type": "code",
   "execution_count": 19,
   "metadata": {},
   "outputs": [
    {
     "name": "stdout",
     "output_type": "stream",
     "text": [
      "5\n",
      "prime\n"
     ]
    }
   ],
   "source": [
    "n=int(input())\n",
    "if n>1:\n",
    "    for i in range(2,n):\n",
    "        if(n%i)==0:\n",
    "            flag=1\n",
    "            break\n",
    "if flag:\n",
    "    print(\"prime\")\n",
    "else:\n",
    "    print(\"not\")"
   ]
  },
  {
   "cell_type": "code",
   "execution_count": 29,
   "metadata": {},
   "outputs": [
    {
     "name": "stdout",
     "output_type": "stream",
     "text": [
      "32\n",
      "4.571428571428571\n"
     ]
    }
   ],
   "source": [
    "l=[1,2,3,5,6,7,8]\n",
    "sum=0\n",
    "for i in l:\n",
    "    sum=sum+i\n",
    "avg=sum/len(l)\n",
    "print(sum)\n",
    "print(avg)"
   ]
  },
  {
   "cell_type": "code",
   "execution_count": 32,
   "metadata": {},
   "outputs": [
    {
     "name": "stdout",
     "output_type": "stream",
     "text": [
      "1 2 3 4 5\n",
      "15\n",
      "3.0\n"
     ]
    }
   ],
   "source": [
    "l=input().split()\n",
    "l=[int(i) for i in l]\n",
    "sum=0\n",
    "for i in l:\n",
    "    sum=sum+i\n",
    "avg=sum/len(l)\n",
    "print(sum)\n",
    "print(avg)"
   ]
  },
  {
   "cell_type": "code",
   "execution_count": 7,
   "metadata": {},
   "outputs": [
    {
     "name": "stdout",
     "output_type": "stream",
     "text": [
      "['green', 'white', 'black']\n"
     ]
    }
   ],
   "source": [
    "li=['red','green','white','black','pink','yellow']\n",
    "n=len(li)\n",
    "li.pop(5)\n",
    "li.pop(4)\n",
    "li.pop(0)\n",
    "print(li)"
   ]
  },
  {
   "cell_type": "code",
   "execution_count": 41,
   "metadata": {},
   "outputs": [
    {
     "name": "stdout",
     "output_type": "stream",
     "text": [
      "[('ram', '15'), ('8', '39')]\n"
     ]
    }
   ],
   "source": [
    "tuples = [(), ('ram','15'), (), ('8','39'),(),()]\n",
    "for i in tuples:\n",
    "    if(i==()):\n",
    "        tuples.remove(i)\n",
    "print(Remove(tuples))"
   ]
  },
  {
   "cell_type": "code",
   "execution_count": 8,
   "metadata": {},
   "outputs": [
    {
     "ename": "KeyboardInterrupt",
     "evalue": "Interrupted by user",
     "output_type": "error",
     "traceback": [
      "\u001b[1;31m---------------------------------------------------------------------------\u001b[0m",
      "\u001b[1;31mKeyboardInterrupt\u001b[0m                         Traceback (most recent call last)",
      "\u001b[1;32m~\\AppData\\Local\\Temp\\ipykernel_24484\\846077504.py\u001b[0m in \u001b[0;36m<module>\u001b[1;34m\u001b[0m\n\u001b[1;32m----> 1\u001b[1;33m \u001b[0mt\u001b[0m\u001b[1;33m=\u001b[0m\u001b[0minput\u001b[0m\u001b[1;33m(\u001b[0m\u001b[1;33m)\u001b[0m\u001b[1;33m.\u001b[0m\u001b[0msplit\u001b[0m\u001b[1;33m(\u001b[0m\u001b[1;33m)\u001b[0m\u001b[1;33m\u001b[0m\u001b[1;33m\u001b[0m\u001b[0m\n\u001b[0m\u001b[0;32m      2\u001b[0m \u001b[0mt\u001b[0m\u001b[1;33m=\u001b[0m\u001b[1;33m(\u001b[0m\u001b[0mint\u001b[0m\u001b[1;33m(\u001b[0m\u001b[0mi\u001b[0m\u001b[1;33m)\u001b[0m \u001b[1;32mfor\u001b[0m \u001b[0mi\u001b[0m \u001b[1;32min\u001b[0m \u001b[0mt\u001b[0m\u001b[1;33m)\u001b[0m\u001b[1;33m\u001b[0m\u001b[1;33m\u001b[0m\u001b[0m\n\u001b[0;32m      3\u001b[0m \u001b[0mprd\u001b[0m\u001b[1;33m=\u001b[0m\u001b[1;36m1\u001b[0m\u001b[1;33m\u001b[0m\u001b[1;33m\u001b[0m\u001b[0m\n\u001b[0;32m      4\u001b[0m \u001b[1;32mfor\u001b[0m \u001b[0mi\u001b[0m \u001b[1;32min\u001b[0m \u001b[0mt\u001b[0m\u001b[1;33m:\u001b[0m\u001b[1;33m\u001b[0m\u001b[1;33m\u001b[0m\u001b[0m\n\u001b[0;32m      5\u001b[0m     \u001b[0mprd\u001b[0m\u001b[1;33m=\u001b[0m\u001b[0mprd\u001b[0m\u001b[1;33m*\u001b[0m\u001b[0mi\u001b[0m\u001b[1;33m\u001b[0m\u001b[1;33m\u001b[0m\u001b[0m\n",
      "\u001b[1;32m~\\anaconda3\\lib\\site-packages\\ipykernel\\kernelbase.py\u001b[0m in \u001b[0;36mraw_input\u001b[1;34m(self, prompt)\u001b[0m\n\u001b[0;32m   1175\u001b[0m                 \u001b[1;34m\"raw_input was called, but this frontend does not support input requests.\"\u001b[0m\u001b[1;33m\u001b[0m\u001b[1;33m\u001b[0m\u001b[0m\n\u001b[0;32m   1176\u001b[0m             )\n\u001b[1;32m-> 1177\u001b[1;33m         return self._input_request(\n\u001b[0m\u001b[0;32m   1178\u001b[0m             \u001b[0mstr\u001b[0m\u001b[1;33m(\u001b[0m\u001b[0mprompt\u001b[0m\u001b[1;33m)\u001b[0m\u001b[1;33m,\u001b[0m\u001b[1;33m\u001b[0m\u001b[1;33m\u001b[0m\u001b[0m\n\u001b[0;32m   1179\u001b[0m             \u001b[0mself\u001b[0m\u001b[1;33m.\u001b[0m\u001b[0m_parent_ident\u001b[0m\u001b[1;33m[\u001b[0m\u001b[1;34m\"shell\"\u001b[0m\u001b[1;33m]\u001b[0m\u001b[1;33m,\u001b[0m\u001b[1;33m\u001b[0m\u001b[1;33m\u001b[0m\u001b[0m\n",
      "\u001b[1;32m~\\anaconda3\\lib\\site-packages\\ipykernel\\kernelbase.py\u001b[0m in \u001b[0;36m_input_request\u001b[1;34m(self, prompt, ident, parent, password)\u001b[0m\n\u001b[0;32m   1217\u001b[0m             \u001b[1;32mexcept\u001b[0m \u001b[0mKeyboardInterrupt\u001b[0m\u001b[1;33m:\u001b[0m\u001b[1;33m\u001b[0m\u001b[1;33m\u001b[0m\u001b[0m\n\u001b[0;32m   1218\u001b[0m                 \u001b[1;31m# re-raise KeyboardInterrupt, to truncate traceback\u001b[0m\u001b[1;33m\u001b[0m\u001b[1;33m\u001b[0m\u001b[0m\n\u001b[1;32m-> 1219\u001b[1;33m                 \u001b[1;32mraise\u001b[0m \u001b[0mKeyboardInterrupt\u001b[0m\u001b[1;33m(\u001b[0m\u001b[1;34m\"Interrupted by user\"\u001b[0m\u001b[1;33m)\u001b[0m \u001b[1;32mfrom\u001b[0m \u001b[1;32mNone\u001b[0m\u001b[1;33m\u001b[0m\u001b[1;33m\u001b[0m\u001b[0m\n\u001b[0m\u001b[0;32m   1220\u001b[0m             \u001b[1;32mexcept\u001b[0m \u001b[0mException\u001b[0m\u001b[1;33m:\u001b[0m\u001b[1;33m\u001b[0m\u001b[1;33m\u001b[0m\u001b[0m\n\u001b[0;32m   1221\u001b[0m                 \u001b[0mself\u001b[0m\u001b[1;33m.\u001b[0m\u001b[0mlog\u001b[0m\u001b[1;33m.\u001b[0m\u001b[0mwarning\u001b[0m\u001b[1;33m(\u001b[0m\u001b[1;34m\"Invalid Message:\"\u001b[0m\u001b[1;33m,\u001b[0m \u001b[0mexc_info\u001b[0m\u001b[1;33m=\u001b[0m\u001b[1;32mTrue\u001b[0m\u001b[1;33m)\u001b[0m\u001b[1;33m\u001b[0m\u001b[1;33m\u001b[0m\u001b[0m\n",
      "\u001b[1;31mKeyboardInterrupt\u001b[0m: Interrupted by user"
     ]
    }
   ],
   "source": [
    "t=input().split()\n",
    "t=(int(i) for i in t)\n",
    "prd=1\n",
    "for i in t:\n",
    "    prd=prd*i\n",
    "print(prd)"
   ]
  },
  {
   "cell_type": "code",
   "execution_count": 48,
   "metadata": {},
   "outputs": [
    {
     "name": "stdout",
     "output_type": "stream",
     "text": [
      "1 2 3 0 0 6\n",
      "[2, 6]\n",
      "[1, 3]\n",
      "[0, 0]\n"
     ]
    }
   ],
   "source": [
    "List=input().split()\n",
    "l=[int(i) for i in List]\n",
    "e=[]\n",
    "o=[]\n",
    "ze=[]\n",
    "for i in l:\n",
    "  if(i==0):\n",
    "    ze.append(i)\n",
    "  elif(i%2==0):\n",
    "    e.append(i)\n",
    "  else:\n",
    "    o.append(i)\n",
    "print(e)\n",
    "print(o)\n",
    "print(ze)"
   ]
  },
  {
   "cell_type": "code",
   "execution_count": 1,
   "metadata": {
    "scrolled": true
   },
   "outputs": [
    {
     "name": "stdout",
     "output_type": "stream",
     "text": [
      "mini\n",
      "inim\n"
     ]
    }
   ],
   "source": [
    "string=input()\n",
    "q=len(string)\n",
    "if(q%4==0):\n",
    "  print(\"\".join(reversed(string)))\n",
    "else:\n",
    "  print(\"not poosible\")"
   ]
  },
  {
   "cell_type": "markdown",
   "metadata": {},
   "source": [
    "  # 30-1-23"
   ]
  },
  {
   "cell_type": "code",
   "execution_count": 3,
   "metadata": {},
   "outputs": [
    {
     "name": "stdout",
     "output_type": "stream",
     "text": [
      "sruniv\n",
      "100\n"
     ]
    }
   ],
   "source": [
    "class Student:\n",
    "    name = \"sruniv\"\n",
    "    __rollnumber = 100\n",
    "    def get_rollnumber(self):\n",
    "        return self.__rollnumber\n",
    "    def set_rollnumber(self, new_value):\n",
    "        self.__rollnumber = new_value\n",
    "        \n",
    "obj = Student()\n",
    "print(obj.name)\n",
    "print(obj.get_rollnumber())"
   ]
  },
  {
   "cell_type": "code",
   "execution_count": 5,
   "metadata": {},
   "outputs": [
    {
     "name": "stdout",
     "output_type": "stream",
     "text": [
      "in class B\n",
      "None\n"
     ]
    }
   ],
   "source": [
    "class A:\n",
    "    def method_1(self):\n",
    "        print(\"in class A\")\n",
    "class B:\n",
    "     def method_1(self):\n",
    "        print(\"in class B\")\n",
    "class child(B,A):\n",
    "    pass\n",
    "ob = child()\n",
    "print(ob.method_1())\n",
    "    "
   ]
  },
  {
   "cell_type": "code",
   "execution_count": 14,
   "metadata": {},
   "outputs": [
    {
     "name": "stdout",
     "output_type": "stream",
     "text": [
      "2\n",
      " raju\n",
      " 567\n",
      " tyu\n",
      " 890\n",
      "[{'raju': '567'}, {'tyu': '890'}]\n"
     ]
    }
   ],
   "source": [
    "n=int(input())\n",
    "arr=[]\n",
    "for i in range (n):\n",
    "    username=input(\" \")\n",
    "    password=input(\" \")\n",
    "    arr.append({username:password})\n",
    "print(arr) "
   ]
  },
  {
   "cell_type": "code",
   "execution_count": 21,
   "metadata": {},
   "outputs": [
    {
     "name": "stdout",
     "output_type": "stream",
     "text": [
      "2\n",
      " tyu\n",
      " 324\n",
      " vbnm\n",
      " 5678\n",
      "[{'tyu': '324'}, {'vbnm': '5678'}]\n",
      " asd\n",
      " 78\n",
      "user not found\n"
     ]
    }
   ],
   "source": [
    "dict={}\n",
    "n=int(input())\n",
    "arr=[]\n",
    "for i in range (n):\n",
    "    username=input(\" \")\n",
    "    password=input(\" \")\n",
    "    arr.append({username:password})\n",
    "print(arr)\n",
    "val=input(\" \")\n",
    "pa=input(\" \")\n",
    "found =False\n",
    "for obj in arr:\n",
    "    try:\n",
    "        password=obj[val]\n",
    "        found=True\n",
    "        if pa==password:\n",
    "            print(\"valid\")\n",
    "        else:\n",
    "            print(\"invalid\")\n",
    "            \n",
    "    except:\n",
    "        pass\n",
    "if found ==False:\n",
    "    print(\"user not found\")"
   ]
  },
  {
   "cell_type": "code",
   "execution_count": 25,
   "metadata": {},
   "outputs": [
    {
     "name": "stdout",
     "output_type": "stream",
     "text": [
      "[1, 2, 3, 4]\n",
      "[2, 3, 4]\n",
      "[2, 3, 4, 5]\n"
     ]
    }
   ],
   "source": [
    "stack=[]\n",
    "stack.append(1)\n",
    "stack.append(2)\n",
    "stack.append(3)\n",
    "stack.append(4)\n",
    "print(stack)\n",
    "stack.pop(0)\n",
    "print(stack)\n",
    "stack.append(5)\n",
    "print(stack)"
   ]
  },
  {
   "cell_type": "code",
   "execution_count": 1,
   "metadata": {},
   "outputs": [
    {
     "name": "stdout",
     "output_type": "stream",
     "text": [
      "Enter your choice:rock\n",
      "Computer choice Paper\n",
      "Computer won\n"
     ]
    }
   ],
   "source": [
    "import random\n",
    "n=input(\"Enter your choice:\")\n",
    "l=[\"Rock\",\"Paper\",\"Scissors\"]\n",
    "s=random.choice(l)\n",
    "print(\"Computer choice\",s)\n",
    "if n==\"Rock\" or n==\"rock\":\n",
    "    if s==\"Scissors\" or s==\"scissors\":\n",
    "        print(\"Player won\")\n",
    "    elif s==\"Rock\" or s==\"rock\":\n",
    "        print(\"DRAW\")\n",
    "    else:\n",
    "        print(\"Computer won\")\n",
    "elif n==\"Scissors\" or n==\"scissors\":\n",
    "    if s==\"Paper\" or s==\"paper\":\n",
    "        print(\"Player won\")\n",
    "    elif s==\"Scissors\" or s==\"scissors\":\n",
    "        print(\"DRAW\")\n",
    "    else:\n",
    "        print(\"Computer won\")\n",
    "elif n==\"Paper\" or n==\"paper\":\n",
    "    if s==\"Rock\" or s==\"rock\":\n",
    "        print(\"Player won\")\n",
    "    elif s==\"Paper\" or s==\"paper\":\n",
    "        print(\"DRAW\")\n",
    "    else:\n",
    "        print(\"Computer won\")\n",
    "else:\n",
    "    print(\"INVALID INPUT\")"
   ]
  },
  {
   "cell_type": "code",
   "execution_count": 5,
   "metadata": {},
   "outputs": [
    {
     "name": "stdout",
     "output_type": "stream",
     "text": [
      "*******ROCK PAPER SCISSORS*******\n",
      "\n",
      "\n",
      "ROUND  1\n",
      "\n"
     ]
    },
    {
     "ename": "KeyboardInterrupt",
     "evalue": "Interrupted by user",
     "output_type": "error",
     "traceback": [
      "\u001b[1;31m---------------------------------------------------------------------------\u001b[0m",
      "\u001b[1;31mKeyboardInterrupt\u001b[0m                         Traceback (most recent call last)",
      "\u001b[1;32m~\\AppData\\Local\\Temp\\ipykernel_10544\\983326261.py\u001b[0m in \u001b[0;36m<module>\u001b[1;34m\u001b[0m\n\u001b[0;32m      7\u001b[0m     \u001b[0mprint\u001b[0m\u001b[1;33m(\u001b[0m\u001b[1;34m\"ROUND \"\u001b[0m\u001b[1;33m,\u001b[0m\u001b[0mno\u001b[0m\u001b[1;33m+\u001b[0m\u001b[1;36m1\u001b[0m\u001b[1;33m)\u001b[0m\u001b[1;33m;\u001b[0m\u001b[1;33m\u001b[0m\u001b[1;33m\u001b[0m\u001b[0m\n\u001b[0;32m      8\u001b[0m     \u001b[0mprint\u001b[0m\u001b[1;33m(\u001b[0m\u001b[1;33m)\u001b[0m\u001b[1;33m\u001b[0m\u001b[1;33m\u001b[0m\u001b[0m\n\u001b[1;32m----> 9\u001b[1;33m     \u001b[0mn\u001b[0m\u001b[1;33m=\u001b[0m\u001b[0minput\u001b[0m\u001b[1;33m(\u001b[0m\u001b[1;34m\"Enter your choice:\"\u001b[0m\u001b[1;33m)\u001b[0m\u001b[1;33m\u001b[0m\u001b[1;33m\u001b[0m\u001b[0m\n\u001b[0m\u001b[0;32m     10\u001b[0m     \u001b[0ml\u001b[0m\u001b[1;33m=\u001b[0m\u001b[1;33m[\u001b[0m\u001b[1;34m\"Rock\"\u001b[0m\u001b[1;33m,\u001b[0m\u001b[1;34m\"Paper\"\u001b[0m\u001b[1;33m,\u001b[0m\u001b[1;34m\"Scissors\"\u001b[0m\u001b[1;33m]\u001b[0m\u001b[1;33m\u001b[0m\u001b[1;33m\u001b[0m\u001b[0m\n\u001b[0;32m     11\u001b[0m     \u001b[0ms\u001b[0m\u001b[1;33m=\u001b[0m\u001b[0mrandom\u001b[0m\u001b[1;33m.\u001b[0m\u001b[0mchoice\u001b[0m\u001b[1;33m(\u001b[0m\u001b[0ml\u001b[0m\u001b[1;33m)\u001b[0m\u001b[1;33m\u001b[0m\u001b[1;33m\u001b[0m\u001b[0m\n",
      "\u001b[1;32m~\\anaconda3\\lib\\site-packages\\ipykernel\\kernelbase.py\u001b[0m in \u001b[0;36mraw_input\u001b[1;34m(self, prompt)\u001b[0m\n\u001b[0;32m   1175\u001b[0m                 \u001b[1;34m\"raw_input was called, but this frontend does not support input requests.\"\u001b[0m\u001b[1;33m\u001b[0m\u001b[1;33m\u001b[0m\u001b[0m\n\u001b[0;32m   1176\u001b[0m             )\n\u001b[1;32m-> 1177\u001b[1;33m         return self._input_request(\n\u001b[0m\u001b[0;32m   1178\u001b[0m             \u001b[0mstr\u001b[0m\u001b[1;33m(\u001b[0m\u001b[0mprompt\u001b[0m\u001b[1;33m)\u001b[0m\u001b[1;33m,\u001b[0m\u001b[1;33m\u001b[0m\u001b[1;33m\u001b[0m\u001b[0m\n\u001b[0;32m   1179\u001b[0m             \u001b[0mself\u001b[0m\u001b[1;33m.\u001b[0m\u001b[0m_parent_ident\u001b[0m\u001b[1;33m[\u001b[0m\u001b[1;34m\"shell\"\u001b[0m\u001b[1;33m]\u001b[0m\u001b[1;33m,\u001b[0m\u001b[1;33m\u001b[0m\u001b[1;33m\u001b[0m\u001b[0m\n",
      "\u001b[1;32m~\\anaconda3\\lib\\site-packages\\ipykernel\\kernelbase.py\u001b[0m in \u001b[0;36m_input_request\u001b[1;34m(self, prompt, ident, parent, password)\u001b[0m\n\u001b[0;32m   1217\u001b[0m             \u001b[1;32mexcept\u001b[0m \u001b[0mKeyboardInterrupt\u001b[0m\u001b[1;33m:\u001b[0m\u001b[1;33m\u001b[0m\u001b[1;33m\u001b[0m\u001b[0m\n\u001b[0;32m   1218\u001b[0m                 \u001b[1;31m# re-raise KeyboardInterrupt, to truncate traceback\u001b[0m\u001b[1;33m\u001b[0m\u001b[1;33m\u001b[0m\u001b[0m\n\u001b[1;32m-> 1219\u001b[1;33m                 \u001b[1;32mraise\u001b[0m \u001b[0mKeyboardInterrupt\u001b[0m\u001b[1;33m(\u001b[0m\u001b[1;34m\"Interrupted by user\"\u001b[0m\u001b[1;33m)\u001b[0m \u001b[1;32mfrom\u001b[0m \u001b[1;32mNone\u001b[0m\u001b[1;33m\u001b[0m\u001b[1;33m\u001b[0m\u001b[0m\n\u001b[0m\u001b[0;32m   1220\u001b[0m             \u001b[1;32mexcept\u001b[0m \u001b[0mException\u001b[0m\u001b[1;33m:\u001b[0m\u001b[1;33m\u001b[0m\u001b[1;33m\u001b[0m\u001b[0m\n\u001b[0;32m   1221\u001b[0m                 \u001b[0mself\u001b[0m\u001b[1;33m.\u001b[0m\u001b[0mlog\u001b[0m\u001b[1;33m.\u001b[0m\u001b[0mwarning\u001b[0m\u001b[1;33m(\u001b[0m\u001b[1;34m\"Invalid Message:\"\u001b[0m\u001b[1;33m,\u001b[0m \u001b[0mexc_info\u001b[0m\u001b[1;33m=\u001b[0m\u001b[1;32mTrue\u001b[0m\u001b[1;33m)\u001b[0m\u001b[1;33m\u001b[0m\u001b[1;33m\u001b[0m\u001b[0m\n",
      "\u001b[1;31mKeyboardInterrupt\u001b[0m: Interrupted by user"
     ]
    }
   ],
   "source": [
    "import random\n",
    "print(\"*******ROCK PAPER SCISSORS*******\\n\\n\")\n",
    "i=0\n",
    "j=0\n",
    "no=0\n",
    "while(no!=5):\n",
    "    print(\"ROUND \",no+1);\n",
    "    print()\n",
    "    n=input(\"Enter your choice:\")\n",
    "    l=[\"Rock\",\"Paper\",\"Scissors\"]\n",
    "    s=random.choice(l)\n",
    "    print(\"Computer choice\",s)\n",
    "    if n==\"Rock\" or n==\"rock\":\n",
    "        if s==\"Scissors\" or s==\"scissors\":\n",
    "            print(\"Player won\")\n",
    "            i+=1\n",
    "        elif s==\"Rock\" or s==\"rock\":\n",
    "            print(\"DRAW\")\n",
    "        else:\n",
    "            print(\"Computer won\")\n",
    "            j+=1\n",
    "    elif n==\"Scissors\" or n==\"scissors\":\n",
    "        if s==\"Paper\" or s==\"paper\":\n",
    "            print(\"Player won\")\n",
    "            i+=1\n",
    "        elif s==\"Scissors\" or s==\"scissors\":\n",
    "            print(\"DRAW\")\n",
    "        else:\n",
    "            print(\"Computer won\")\n",
    "            j+=1\n",
    "    elif n==\"Paper\" or n==\"paper\":\n",
    "        if s==\"Rock\" or s==\"rock\":\n",
    "            print(\"Player won\")\n",
    "            i+=1\n",
    "        elif s==\"Paper\" or s==\"paper\":\n",
    "            print(\"DRAW\")\n",
    "        else:\n",
    "            print(\"Computer won\")\n",
    "            j+=1\n",
    "    else:\n",
    "        print(\"INVALID INPUT\")\n",
    "    no+=1\n",
    "print(\"\\n\\n\")\n",
    "if(i>j):\n",
    "    print(\"Player won the match\")\n",
    "else:\n",
    "    print(\"Computer won the match\")"
   ]
  },
  {
   "cell_type": "code",
   "execution_count": 11,
   "metadata": {},
   "outputs": [
    {
     "name": "stdout",
     "output_type": "stream",
     "text": [
      "<bound method student.study of <__main__.student object at 0x000002B49E2FF310>>\n",
      "student is studying\n",
      "None\n"
     ]
    }
   ],
   "source": [
    "class student:\n",
    "    name=\"sri\"\n",
    "    roll=105\n",
    "    def study(self):\n",
    "        print(\"student is studying\")\n",
    "ob1=student()\n",
    "print(ob1.study)##address##\n",
    "print(ob1.study())##execute print##"
   ]
  },
  {
   "cell_type": "code",
   "execution_count": 6,
   "metadata": {},
   "outputs": [
    {
     "name": "stdout",
     "output_type": "stream",
     "text": [
      "[2, 5, 8]\n",
      "[2, 5, 8, 6]\n",
      "6\n",
      "4\n"
     ]
    }
   ],
   "source": [
    "class stack1:\n",
    "    li=[]\n",
    "    def pop(li):\n",
    "        li.pop()\n",
    "        print(li)\n",
    "    def push(li,n):\n",
    "        li.append(n)\n",
    "        print(li)\n",
    "    def peek(li):\n",
    "        print(li[-1])\n",
    "    def size(li):\n",
    "        print(len(li))\n",
    "li=[2,5,8,9]\n",
    "ob=stack1\n",
    "ob.pop(li)\n",
    "n=6\n",
    "ob.push(li,n)\n",
    "ob.peek(li)\n",
    "ob.size(li)"
   ]
  },
  {
   "cell_type": "code",
   "execution_count": 30,
   "metadata": {},
   "outputs": [
    {
     "name": "stdout",
     "output_type": "stream",
     "text": [
      "enter element3\n",
      "enter element6\n",
      "enter element7\n",
      "enter element3\n",
      "enter element1\n",
      "enter element4\n",
      "4\n",
      "1\n",
      "3\n",
      "7\n",
      "6\n",
      "3\n"
     ]
    }
   ],
   "source": [
    "class stack:\n",
    "    li1=[]\n",
    "    \n",
    "    def push(self):\n",
    "        ele=int(input(\"enter element\"))\n",
    "        self.li1.append(ele)\n",
    "    def sp(self):\n",
    "        print(self.li1[-1])\n",
    "        self.li1.pop()\n",
    "ob=stack()\n",
    "for i in range(6):\n",
    "    ob.push()\n",
    "for i in range(6):\n",
    "    ob.sp()\n",
    "\n",
    "    \n",
    "    "
   ]
  },
  {
   "cell_type": "code",
   "execution_count": 45,
   "metadata": {},
   "outputs": [
    {
     "name": "stdout",
     "output_type": "stream",
     "text": [
      "enter element3\n",
      "enter element5\n",
      "enter element7\n",
      "3\n",
      "5\n",
      "7\n"
     ]
    }
   ],
   "source": [
    "class queue:\n",
    "    q=[]\n",
    "    def enqueue(self):\n",
    "        ele=int(input(\"enter element\"))\n",
    "        self.q.append(ele)\n",
    "    def dequeue(self):\n",
    "        for i in range(len(self.q)):\n",
    "            print(self.q[0])\n",
    "            self.q.pop(0)\n",
    "ob1=queue()\n",
    "for i in range(3):\n",
    "    ob1.enqueue()\n",
    "ob1.dequeue()"
   ]
  },
  {
   "cell_type": "code",
   "execution_count": 43,
   "metadata": {},
   "outputs": [
    {
     "name": "stdout",
     "output_type": "stream",
     "text": [
      "enter:3\n",
      "enter:5\n",
      "enter:8\n",
      "enter:9\n",
      "enter:0\n",
      "enter:4\n",
      "stack\n",
      "4\n",
      "0\n",
      "9\n",
      "8\n",
      "5\n",
      "3\n",
      "queue\n",
      "3\n",
      "5\n",
      "8\n",
      "9\n",
      "0\n",
      "4\n"
     ]
    }
   ],
   "source": [
    "## implementing queue using stack##\n",
    "class qus:\n",
    "    st1=[]\n",
    "    qu1=[]\n",
    "    def enqueue(self):\n",
    "        ele=int(input(\"enter:\"))\n",
    "        self.st1.append(ele)\n",
    "        self.qu1.append(ele)\n",
    "        \n",
    "    def dequeue(self):\n",
    "        print(\"stack\")\n",
    "        for i in range(len(self.st1)):\n",
    "            print(self.st1[-1])\n",
    "            self.st1.pop(-1)\n",
    "        print(\"queue\")\n",
    "        for i in range(len(self.qu1)):\n",
    "            print(self.qu1[0])\n",
    "            self.qu1.pop(0)\n",
    "obj2=qus()\n",
    "for i in range(6):\n",
    "    obj2.enqueue()\n",
    "obj2.dequeue()"
   ]
  },
  {
   "cell_type": "code",
   "execution_count": 9,
   "metadata": {},
   "outputs": [
    {
     "name": "stdout",
     "output_type": "stream",
     "text": [
      "[]\n"
     ]
    }
   ],
   "source": [
    "stack=[]\n",
    "s=\"(()())()\"\n",
    "for i in s:\n",
    "    if i==\"(\":\n",
    "        stack.append(i)\n",
    "    else:\n",
    "        if len(stack)==0:\n",
    "            print(\"unbalanced\")\n",
    "            break\n",
    "        else:\n",
    "            stack.pop()\n",
    "print(stack)"
   ]
  },
  {
   "cell_type": "code",
   "execution_count": 22,
   "metadata": {},
   "outputs": [],
   "source": [
    "class node:\n",
    "    data=None\n",
    "    address=None\n",
    "    def __init__(self,value):\n",
    "        self.data=value"
   ]
  },
  {
   "cell_type": "code",
   "execution_count": null,
   "metadata": {},
   "outputs": [],
   "source": [
    "class linkedlist:\n",
    "    def addelement(self,head,value):\n",
    "        new_node=node\n",
    "        curr=head\n",
    "        while curr.address!=None:\n",
    "            curr=curr.address\n",
    "        curr.address=new_node\n",
    "    def print_list(self,head):\n",
    "        curr=head\n",
    "        while curr!=None:\n",
    "            print(curr.data)\n",
    "            curr=curr.addresss\n",
    "    def removeelement(self):\n",
    "        pass\n",
    "ob=linkedlist()\n",
    "head=node(10)\n",
    "ob.addelement(head,20)\n",
    "ob.addelement(head,30)\n",
    "ob.addelement(head,50)\n",
    "ob.print_list(head)\n"
   ]
  },
  {
   "cell_type": "code",
   "execution_count": null,
   "metadata": {},
   "outputs": [],
   "source": []
  }
 ],
 "metadata": {
  "kernelspec": {
   "display_name": "Python 3 (ipykernel)",
   "language": "python",
   "name": "python3"
  },
  "language_info": {
   "codemirror_mode": {
    "name": "ipython",
    "version": 3
   },
   "file_extension": ".py",
   "mimetype": "text/x-python",
   "name": "python",
   "nbconvert_exporter": "python",
   "pygments_lexer": "ipython3",
   "version": "3.9.13"
  }
 },
 "nbformat": 4,
 "nbformat_minor": 4
}
